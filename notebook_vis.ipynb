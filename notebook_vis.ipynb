{
 "cells": [
  {
   "cell_type": "code",
   "execution_count": 1,
   "id": "5d04897a-cd48-4478-95c8-25a0589fdf1e",
   "metadata": {},
   "outputs": [
    {
     "ename": "NameError",
     "evalue": "name 'inflammation_data' is not defined",
     "output_type": "error",
     "traceback": [
      "\u001b[0;31m---------------------------------------------------------------------------\u001b[0m",
      "\u001b[0;31mNameError\u001b[0m                                 Traceback (most recent call last)",
      "Cell \u001b[0;32mIn[1], line 7\u001b[0m\n\u001b[1;32m      3\u001b[0m \u001b[38;5;28;01mimport\u001b[39;00m \u001b[38;5;21;01margparse\u001b[39;00m\n\u001b[1;32m      5\u001b[0m \u001b[38;5;28;01mfrom\u001b[39;00m \u001b[38;5;21;01minflammation\u001b[39;00m \u001b[38;5;28;01mimport\u001b[39;00m models, views\n\u001b[0;32m----> 7\u001b[0m view_data \u001b[38;5;241m=\u001b[39m {\u001b[38;5;124m'\u001b[39m\u001b[38;5;124maverage\u001b[39m\u001b[38;5;124m'\u001b[39m: models\u001b[38;5;241m.\u001b[39mdaily_mean(\u001b[43minflammation_data\u001b[49m), \u001b[38;5;124m'\u001b[39m\u001b[38;5;124mmax\u001b[39m\u001b[38;5;124m'\u001b[39m: models\u001b[38;5;241m.\u001b[39mdaily_max(inflammation_data), \u001b[38;5;124m'\u001b[39m\u001b[38;5;124mmin\u001b[39m\u001b[38;5;124m'\u001b[39m: models\u001b[38;5;241m.\u001b[39mdaily_min(inflammation_data)}\n\u001b[1;32m      9\u001b[0m views\u001b[38;5;241m.\u001b[39mvisualize(view_data)\n",
      "\u001b[0;31mNameError\u001b[0m: name 'inflammation_data' is not defined"
     ]
    }
   ],
   "source": [
    "filename = 'data/inflammation-09.csv'\n",
    "\n",
    "import argparse\n",
    "\n",
    "from inflammation import models, views\n",
    "\n",
    "view_data = {'average': models.daily_mean(inflammation_data), 'max': models.daily_max(inflammation_data), 'min': models.daily_min(inflammation_data)}\n",
    "\n",
    "views.visualize(view_data)"
   ]
  },
  {
   "cell_type": "code",
   "execution_count": null,
   "id": "bae213c6-b706-4879-a56e-098e1de5e951",
   "metadata": {},
   "outputs": [],
   "source": []
  }
 ],
 "metadata": {
  "kernelspec": {
   "display_name": "Python 3 (ipykernel)",
   "language": "python",
   "name": "python3"
  },
  "language_info": {
   "codemirror_mode": {
    "name": "ipython",
    "version": 3
   },
   "file_extension": ".py",
   "mimetype": "text/x-python",
   "name": "python",
   "nbconvert_exporter": "python",
   "pygments_lexer": "ipython3",
   "version": "3.10.14"
  }
 },
 "nbformat": 4,
 "nbformat_minor": 5
}
